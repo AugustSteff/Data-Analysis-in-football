{
 "cells": [
  {
   "cell_type": "code",
   "execution_count": 1,
   "id": "4fb47c2f",
   "metadata": {},
   "outputs": [],
   "source": [
    "%matplotlib inline\n",
    "\n",
    "from statsbombpy import sb\n",
    "\n",
    "import pandas as pd\n",
    "import numpy as np\n",
    "import matplotlib.pyplot as plt\n",
    "import matplotlib as mpl\n",
    "from matplotlib import font_manager as fm, rcParams\n",
    "import os\n",
    "from mplsoccer.pitch import Pitch\n",
    "\n",
    "from mplsoccer import Pitch, VerticalPitch, FontManager, Sbopen\n",
    "from mplsoccer.utils import FontManager\n",
    "import seaborn as sns\n",
    "from matplotlib.colors import to_rgba, LinearSegmentedColormap\n",
    "import matplotlib.gridspec as gridspec\n",
    "import matplotlib.patheffects as path_effects\n",
    "\n",
    "from PIL import Image\n",
    "\n",
    "from urllib.request import urlopen\n",
    "from highlight_text import HighlightText, ax_text, fig_text\n",
    "import requests\n",
    "from io import BytesIO\n",
    "import cmasher as cmr"
   ]
  },
  {
   "cell_type": "code",
   "execution_count": 39,
   "id": "d9a5c893",
   "metadata": {},
   "outputs": [],
   "source": [
    "parser = Sbopen()\n",
    "match_files = [3835337, 3835329, 3835322]\n",
    "df = pd.concat([parser.event(file)[0] for file in match_files])"
   ]
  },
  {
   "cell_type": "code",
   "execution_count": 40,
   "id": "2b6a64ad",
   "metadata": {},
   "outputs": [],
   "source": [
    "teamName = \"Denmark Women's\""
   ]
  },
  {
   "cell_type": "code",
   "execution_count": 49,
   "id": "035e861b",
   "metadata": {},
   "outputs": [],
   "source": [
    "pitchColor = \"#7FB069\"\n",
    "figColor = \"#7FB069\"\n",
    "linesColor = \"black\"\n",
    "hteamColor = \"#E32219\"\n",
    "ateamColor = \"#003581\""
   ]
  },
  {
   "cell_type": "code",
   "execution_count": 47,
   "id": "2475d578",
   "metadata": {},
   "outputs": [],
   "source": [
    "teamShots = df[df[\"team_name\"]== teamName]\n",
    "teamShots = teamShots[teamShots[\"type_name\"]== \"Shot\"]\n",
    "teamShots = teamShots[['team_name', 'player_name', 'minute', 'second', \"x\", \"y\", 'shot_statsbomb_xg', \"type_name\", \"outcome_name\"]]"
   ]
  },
  {
   "cell_type": "code",
   "execution_count": 56,
   "id": "b17b7a19",
   "metadata": {
    "scrolled": true
   },
   "outputs": [
    {
     "data": {
      "text/html": [
       "<div>\n",
       "<style scoped>\n",
       "    .dataframe tbody tr th:only-of-type {\n",
       "        vertical-align: middle;\n",
       "    }\n",
       "\n",
       "    .dataframe tbody tr th {\n",
       "        vertical-align: top;\n",
       "    }\n",
       "\n",
       "    .dataframe thead th {\n",
       "        text-align: right;\n",
       "    }\n",
       "</style>\n",
       "<table border=\"1\" class=\"dataframe\">\n",
       "  <thead>\n",
       "    <tr style=\"text-align: right;\">\n",
       "      <th></th>\n",
       "      <th>team_name</th>\n",
       "      <th>player_name</th>\n",
       "      <th>minute</th>\n",
       "      <th>second</th>\n",
       "      <th>x</th>\n",
       "      <th>y</th>\n",
       "      <th>shot_statsbomb_xg</th>\n",
       "      <th>type_name</th>\n",
       "      <th>outcome_name</th>\n",
       "    </tr>\n",
       "  </thead>\n",
       "  <tbody>\n",
       "    <tr>\n",
       "      <th>670</th>\n",
       "      <td>Denmark Women's</td>\n",
       "      <td>Pernille Mosegaard Harder</td>\n",
       "      <td>12</td>\n",
       "      <td>57</td>\n",
       "      <td>98.6</td>\n",
       "      <td>47.2</td>\n",
       "      <td>0.253417</td>\n",
       "      <td>Shot</td>\n",
       "      <td>Off T</td>\n",
       "    </tr>\n",
       "    <tr>\n",
       "      <th>756</th>\n",
       "      <td>Denmark Women's</td>\n",
       "      <td>Pernille Mosegaard Harder</td>\n",
       "      <td>15</td>\n",
       "      <td>10</td>\n",
       "      <td>112.6</td>\n",
       "      <td>55.4</td>\n",
       "      <td>0.034467</td>\n",
       "      <td>Shot</td>\n",
       "      <td>Saved</td>\n",
       "    </tr>\n",
       "    <tr>\n",
       "      <th>927</th>\n",
       "      <td>Denmark Women's</td>\n",
       "      <td>Kathrine Møller Kühl</td>\n",
       "      <td>18</td>\n",
       "      <td>30</td>\n",
       "      <td>110.0</td>\n",
       "      <td>31.5</td>\n",
       "      <td>0.086696</td>\n",
       "      <td>Shot</td>\n",
       "      <td>Blocked</td>\n",
       "    </tr>\n",
       "    <tr>\n",
       "      <th>2165</th>\n",
       "      <td>Denmark Women's</td>\n",
       "      <td>Kathrine Møller Kühl</td>\n",
       "      <td>49</td>\n",
       "      <td>20</td>\n",
       "      <td>109.4</td>\n",
       "      <td>48.0</td>\n",
       "      <td>0.063547</td>\n",
       "      <td>Shot</td>\n",
       "      <td>Blocked</td>\n",
       "    </tr>\n",
       "    <tr>\n",
       "      <th>3078</th>\n",
       "      <td>Denmark Women's</td>\n",
       "      <td>Pernille Mosegaard Harder</td>\n",
       "      <td>71</td>\n",
       "      <td>38</td>\n",
       "      <td>94.9</td>\n",
       "      <td>44.9</td>\n",
       "      <td>0.040767</td>\n",
       "      <td>Shot</td>\n",
       "      <td>Off T</td>\n",
       "    </tr>\n",
       "  </tbody>\n",
       "</table>\n",
       "</div>"
      ],
      "text/plain": [
       "            team_name                player_name  minute  second      x     y  \\\n",
       "670   Denmark Women's  Pernille Mosegaard Harder      12      57   98.6  47.2   \n",
       "756   Denmark Women's  Pernille Mosegaard Harder      15      10  112.6  55.4   \n",
       "927   Denmark Women's       Kathrine Møller Kühl      18      30  110.0  31.5   \n",
       "2165  Denmark Women's       Kathrine Møller Kühl      49      20  109.4  48.0   \n",
       "3078  Denmark Women's  Pernille Mosegaard Harder      71      38   94.9  44.9   \n",
       "\n",
       "      shot_statsbomb_xg type_name outcome_name  \n",
       "670            0.253417      Shot        Off T  \n",
       "756            0.034467      Shot        Saved  \n",
       "927            0.086696      Shot      Blocked  \n",
       "2165           0.063547      Shot      Blocked  \n",
       "3078           0.040767      Shot        Off T  "
      ]
     },
     "execution_count": 56,
     "metadata": {},
     "output_type": "execute_result"
    }
   ],
   "source": [
    "teamShots.head()"
   ]
  },
  {
   "cell_type": "code",
   "execution_count": 51,
   "id": "448a494f",
   "metadata": {},
   "outputs": [
    {
     "data": {
      "image/png": "[encoded data removed]",
      "text/plain": [
       "<Figure size 804.26x720 with 3 Axes>"
      ]
     },
     "metadata": {},
     "output_type": "display_data"
    }
   ],
   "source": [
    "pitch = VerticalPitch(pitch_type='statsbomb', half=True, goal_type=\"box\", goal_alpha=0.8,\n",
    "                      pitch_color=pitchColor, line_color=linesColor)\n",
    "\n",
    "fig,axs= pitch.grid(figheight=10, title_height=0.08, endnote_space=0, \n",
    "                    axis=False,title_space=0, grid_height=0.82, endnote_height=0.05)\n",
    "\n",
    "fig.set_facecolor(figColor)\n",
    "\n",
    "scatter_teamShots = pitch.scatter(teamShots.x, teamShots.y, s=(teamShots.shot_statsbomb_xg * 900) + 130, \n",
    "                              c='pink', edgecolors= \"red\", marker='o', \n",
    "                              alpha = 1, ax=axs['pitch'])"
   ]
  }
 ],
 "metadata": {
  "kernelspec": {
   "display_name": "Python 3 (ipykernel)",
   "language": "python",
   "name": "python3"
  },
  "language_info": {
   "codemirror_mode": {
    "name": "ipython",
    "version": 3
   },
   "file_extension": ".py",
   "mimetype": "text/x-python",
   "name": "python",
   "nbconvert_exporter": "python",
   "pygments_lexer": "ipython3",
   "version": "3.9.12"
  }
 },
 "nbformat": 4,
 "nbformat_minor": 5
}
